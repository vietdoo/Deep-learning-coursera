{
 "cells": [
  {
   "cell_type": "markdown",
   "metadata": {},
   "source": [
    "# Convolutional Neural Networks: Application\n",
    "\n",
    "Welcome to Course 4's second assignment! In this notebook, you will:\n",
    "\n",
    "- Create a mood classifer using the TF Keras Sequential API\n",
    "- Build a ConvNet to identify sign language digits using the TF Keras Functional API\n",
    "\n",
    "**After this assignment you will be able to:**\n",
    "\n",
    "- Build and train a ConvNet in TensorFlow for a __binary__ classification problem\n",
    "- Build and train a ConvNet in TensorFlow for a __multiclass__ classification problem\n",
    "- Explain different use cases for the Sequential and Functional APIs\n",
    "\n",
    "To complete this assignment, you should already be familiar with TensorFlow. If you are not, please refer back to the **TensorFlow Tutorial** of the third week of Course 2 (\"**Improving deep neural networks**\")."
   ]
  },
  {
   "cell_type": "markdown",
   "metadata": {},
   "source": [
    "## Table of Contents\n",
    "\n",
    "- [1 - Packages](#1)\n",
    "    - [1.1 - Load the Data and Split the Data into Train/Test Sets](#1-1)\n",
    "- [2 - Layers in TF Keras](#2)\n",
    "- [3 - The Sequential API](#3)\n",
    "    - [3.1 - Create the Sequential Model](#3-1)\n",
    "        - [Exercise 1 - happyModel](#ex-1)\n",
    "    - [3.2 - Train and Evaluate the Model](#3-2)\n",
    "- [4 - The Functional API](#4)\n",
    "    - [4.1 - Load the SIGNS Dataset](#4-1)\n",
    "    - [4.2 - Split the Data into Train/Test Sets](#4-2)\n",
    "    - [4.3 - Forward Propagation](#4-3)\n",
    "        - [Exercise 2 - convolutional_model](#ex-2)\n",
    "    - [4.4 - Train the Model](#4-4)\n",
    "- [5 - History Object](#5)\n",
    "- [6 - Bibliography](#6)"
   ]
  },
  {
   "cell_type": "markdown",
   "metadata": {},
   "source": [
    "<a name='1'></a>\n",
    "## 1 - Packages\n",
    "\n",
    "As usual, begin by loading in the packages."
   ]
  },
  {
   "cell_type": "code",
   "execution_count": 1,
   "metadata": {},
   "outputs": [],
   "source": [
    "import math\n",
    "import numpy as np\n",
    "import h5py\n",
    "import matplotlib.pyplot as plt\n",
    "from matplotlib.pyplot import imread\n",
    "import scipy\n",
    "from PIL import Image\n",
    "import pandas as pd\n",
    "import tensorflow as tf\n",
    "import tensorflow.keras.layers as tfl\n",
    "from tensorflow.python.framework import ops\n",
    "from cnn_utils import *\n",
    "from test_utils import summary, comparator\n",
    "\n",
    "%matplotlib inline\n",
    "np.random.seed(1)"
   ]
  },
  {
   "cell_type": "markdown",
   "metadata": {},
   "source": [
    "<a name='1-1'></a>\n",
    "### 1.1 - Load the Data and Split the Data into Train/Test Sets\n",
    "\n",
    "You'll be using the Happy House dataset for this part of the assignment, which contains images of peoples' faces. Your task will be to build a ConvNet that determines whether the people in the images are smiling or not -- because they only get to enter the house if they're smiling!  "
   ]
  },
  {
   "cell_type": "code",
   "execution_count": 2,
   "metadata": {},
   "outputs": [
    {
     "name": "stdout",
     "output_type": "stream",
     "text": [
      "number of training examples = 600\n",
      "number of test examples = 150\n",
      "X_train shape: (600, 64, 64, 3)\n",
      "Y_train shape: (600, 1)\n",
      "X_test shape: (150, 64, 64, 3)\n",
      "Y_test shape: (150, 1)\n"
     ]
    }
   ],
   "source": [
    "X_train_orig, Y_train_orig, X_test_orig, Y_test_orig, classes = load_happy_dataset()\n",
    "\n",
    "# Normalize image vectors\n",
    "X_train = X_train_orig/255.\n",
    "X_test = X_test_orig/255.\n",
    "\n",
    "# Reshape\n",
    "Y_train = Y_train_orig.T\n",
    "Y_test = Y_test_orig.T\n",
    "\n",
    "print (\"number of training examples = \" + str(X_train.shape[0]))\n",
    "print (\"number of test examples = \" + str(X_test.shape[0]))\n",
    "print (\"X_train shape: \" + str(X_train.shape))\n",
    "print (\"Y_train shape: \" + str(Y_train.shape))\n",
    "print (\"X_test shape: \" + str(X_test.shape))\n",
    "print (\"Y_test shape: \" + str(Y_test.shape))"
   ]
  },
  {
   "cell_type": "markdown",
   "metadata": {},
   "source": [
    "You can display the images contained in the dataset. Images are **64x64** pixels in RGB format (3 channels)."
   ]
  },
  {
   "cell_type": "code",
   "execution_count": 3,
   "metadata": {},
   "outputs": [
    {
     "data": {
      "image/png": "[encoded data removed]",
      "text/plain": [
       "<Figure size 432x288 with 1 Axes>"
      ]
     },
     "metadata": {
      "needs_background": "light"
     },
     "output_type": "display_data"
    }
   ],
   "source": [
    "index = 125\n",
    "plt.imshow(X_train_orig[index]) #display sample training image\n",
    "plt.show()"
   ]
  },
  {
   "cell_type": "markdown",
   "metadata": {},
   "source": [
    "<a name='2'></a>\n",
    "## 2 - Layers in TF Keras \n",
    "\n",
    "In the previous assignment, you created layers manually in numpy. In TF Keras, you don't have to write code directly to create layers. Rather, TF Keras has pre-defined layers you can use. \n",
    "\n",
    "When you create a layer in TF Keras, you are creating a function that takes some input and transforms it into an output you can reuse later. Nice and easy! "
   ]
  },
  {
   "cell_type": "markdown",
   "metadata": {},
   "source": [
    "<a name='3-1'></a>\n",
    "### 3.1 - Create the Sequential Model\n",
    "\n",
    "As mentioned earlier, the TensorFlow Keras Sequential API can be used to build simple models with layer operations that proceed in a sequential order. \n",
    "\n",
    "You can also add layers incrementally to a Sequential model with the `.add()` method, or remove them using the `.pop()` method, much like you would in a regular Python list.\n",
    "\n",
    "Actually, you can think of a Sequential model as behaving like a list of layers. Like Python lists, Sequential layers are ordered, and the order in which they are specified matters.  If your model is non-linear or contains layers with multiple inputs or outputs, a Sequential model wouldn't be the right choice!\n",
    "\n",
    "For any layer construction in Keras, you'll need to specify the input shape in advance. This is because in Keras, the shape of the weights is based on the shape of the inputs. The weights are only created when the model first sees some input data. Sequential models can be created by passing a list of layers to the Sequential constructor, like you will do in the next assignment.\n",
    "\n",
    "<a name='ex-1'></a>\n",
    "### Exercise 1 - happyModel\n",
    "\n",
    "Implement the `happyModel` function below to build the following model: `ZEROPAD2D -> CONV2D -> BATCHNORM -> RELU -> MAXPOOL -> FLATTEN -> DENSE`. Take help from [tf.keras.layers](https://www.tensorflow.org/api_docs/python/tf/keras/layers) \n",
    "\n",
    "Also, plug in the following parameters for all the steps:\n",
    "\n",
    " - [ZeroPadding2D](https://www.tensorflow.org/api_docs/python/tf/keras/layers/ZeroPadding2D): padding 3, input shape 64 x 64 x 3\n",
    " - [Conv2D](https://www.tensorflow.org/api_docs/python/tf/keras/layers/Conv2D): Use 32 7x7 filters, stride 1\n",
    " - [BatchNormalization](https://www.tensorflow.org/api_docs/python/tf/keras/layers/BatchNormalization): for axis 3\n",
    " - [ReLU](https://www.tensorflow.org/api_docs/python/tf/keras/layers/ReLU)\n",
    " - [MaxPool2D](https://www.tensorflow.org/api_docs/python/tf/keras/layers/MaxPool2D): Using default parameters\n",
    " - [Flatten](https://www.tensorflow.org/api_docs/python/tf/keras/layers/Flatten) the previous output.\n",
    " - Fully-connected ([Dense](https://www.tensorflow.org/api_docs/python/tf/keras/layers/Dense)) layer: Apply a fully connected layer with 1 neuron and a sigmoid activation. \n",
    " \n",
    " \n",
    " **Hint:**\n",
    " \n",
    " Use **tfl** as shorthand for **tensorflow.keras.layers**"
   ]
  },
  {
   "cell_type": "markdown",
   "metadata": {},
   "source": [
    "<a name='3'></a>\n",
    "## 3 - The Sequential API\n",
    "\n",
    "In the previous assignment, you built helper functions using `numpy` to understand the mechanics behind convolutional neural networks. Most practical applications of deep learning today are built using programming frameworks, which have many built-in functions you can simply call. Keras is a high-level abstraction built on top of TensorFlow, which allows for even more simplified and optimized model creation and training. \n",
    "\n",
    "For the first part of this assignment, you'll create a model using TF Keras' Sequential API, which allows you to build layer by layer, and is ideal for building models where each layer has **exactly one** input tensor and **one** output tensor. \n",
    "\n",
    "As you'll see, using the Sequential API is simple and straightforward, but is only appropriate for simpler, more straightforward tasks. Later in this notebook you'll spend some time building with a more flexible, powerful alternative: the Functional API. \n",
    " "
   ]
  },
  {
   "cell_type": "code",
   "execution_count": 6,
   "metadata": {
    "deletable": false,
    "nbgrader": {
     "cell_type": "code",
     "checksum": "95d28b191f257bdd5b70c7b8952559d5",
     "grade": false,
     "grade_id": "cell-0e56d3fc28b69aec",
     "locked": false,
     "schema_version": 3,
     "solution": true,
     "task": false
    }
   },
   "outputs": [],
   "source": [
    "# GRADED FUNCTION: happyModel\n",
    "\n",
    "def happyModel():\n",
    "    \"\"\"\n",
    "    Implements the forward propagation for the binary classification model:\n",
    "    ZEROPAD2D -> CONV2D -> BATCHNORM -> RELU -> MAXPOOL -> FLATTEN -> DENSE\n",
    "    \n",
    "    Note that for simplicity and grading purposes, you'll hard-code all the values\n",
    "    such as the stride and kernel (filter) sizes. \n",
    "    Normally, functions should take these values as function parameters.\n",
    "    \n",
    "    Arguments:\n",
    "    None\n",
    "\n",
    "    Returns:\n",
    "    model -- TF Keras model (object containing the information for the entire training process) \n",
    "    \"\"\"\n",
    "    model = tf.keras.Sequential([\n",
    "            ## ZeroPadding2D with padding 3, input shape of 64 x 64 x 3\n",
    "            tfl.ZeroPadding2D(padding = 3, input_shape = (64, 64, 3)),\n",
    "            ## Conv2D with 32 7x7 filters and stride of 1\n",
    "            tfl.Conv2D(32, 7, strides = (1, 1)),\n",
    "            ## BatchNormalization for axis 3\n",
    "            tfl.BatchNormalization(axis = 3),\n",
    "            ## ReLU\n",
    "            tfl.ReLU(),\n",
    "            ## Max Pooling 2D with default parameters\n",
    "            tfl.MaxPooling2D(),\n",
    "            ## Flatten layer\n",
    "            tfl.Flatten(),\n",
    "            ## Dense layer with 1 unit for output & 'sigmoid' activation\n",
    "            tfl.Dense(1, activation = 'sigmoid')\n",
    "            # YOUR CODE STARTS HERE\n",
    "            \n",
    "            \n",
    "            # YOUR CODE ENDS HERE\n",
    "        ])\n",
    "    \n",
    "    return model"
   ]
  },
  {
   "cell_type": "code",
   "execution_count": 7,
   "metadata": {
    "deletable": false,
    "editable": false,
    "nbgrader": {
     "cell_type": "code",
     "checksum": "8d3575c950e2e78149be2d05d671c80d",
     "grade": true,
     "grade_id": "cell-e3e1046e5c33d775",
     "locked": true,
     "points": 10,
     "schema_version": 3,
     "solution": false,
     "task": false
    }
   },
   "outputs": [
    {
     "name": "stdout",
     "output_type": "stream",
     "text": [
      "['ZeroPadding2D', (None, 70, 70, 3), 0, ((3, 3), (3, 3))]\n",
      "['Conv2D', (None, 64, 64, 32), 4736, 'valid', 'linear', 'GlorotUniform']\n",
      "['BatchNormalization', (None, 64, 64, 32), 128]\n",
      "['ReLU', (None, 64, 64, 32), 0]\n",
      "['MaxPooling2D', (None, 32, 32, 32), 0, (2, 2), (2, 2), 'valid']\n",
      "['Flatten', (None, 32768), 0]\n",
      "['Dense', (None, 1), 32769, 'sigmoid']\n",
      "\u001b[32mAll tests passed!\u001b[0m\n"
     ]
    }
   ],
   "source": [
    "happy_model = happyModel()\n",
    "# Print a summary for each layer\n",
    "for layer in summary(happy_model):\n",
    "    print(layer)\n",
    "    \n",
    "output = [['ZeroPadding2D', (None, 70, 70, 3), 0, ((3, 3), (3, 3))],\n",
    "            ['Conv2D', (None, 64, 64, 32), 4736, 'valid', 'linear', 'GlorotUniform'],\n",
    "            ['BatchNormalization', (None, 64, 64, 32), 128],\n",
    "            ['ReLU', (None, 64, 64, 32), 0],\n",
    "            ['MaxPooling2D', (None, 32, 32, 32), 0, (2, 2), (2, 2), 'valid'],\n",
    "            ['Flatten', (None, 32768), 0],\n",
    "            ['Dense', (None, 1), 32769, 'sigmoid']]\n",
    "    \n",
    "comparator(summary(happy_model), output)"
   ]
  },
  {
   "cell_type": "markdown",
   "metadata": {},
   "source": [
    "Now that your model is created, you can compile it for training with an optimizer and loss of your choice. When the string `accuracy` is specified as a metric, the type of accuracy used will be automatically converted based on the loss function used. This is one of the many optimizations built into TensorFlow that make your life easier! If you'd like to read more on how the compiler operates, check the docs [here](https://www.tensorflow.org/api_docs/python/tf/keras/Model#compile)."
   ]
  },
  {
   "cell_type": "code",
   "execution_count": 8,
   "metadata": {},
   "outputs": [],
   "source": [
    "happy_model.compile(optimizer='adam',\n",
    "                   loss='binary_crossentropy',\n",
    "                   metrics=['accuracy'])"
   ]
  },
  {
   "cell_type": "markdown",
   "metadata": {},
   "source": [
    "It's time to check your model's parameters with the `.summary()` method. This will display the types of layers you have, the shape of the outputs, and how many parameters are in each layer. "
   ]
  },
  {
   "cell_type": "code",
   "execution_count": 9,
   "metadata": {},
   "outputs": [
    {
     "name": "stdout",
     "output_type": "stream",
     "text": [
      "Model: \"sequential\"\n",
      "_________________________________________________________________\n",
      "Layer (type)                 Output Shape              Param #   \n",
      "=================================================================\n",
      "zero_padding2d (ZeroPadding2 (None, 70, 70, 3)         0         \n",
      "_________________________________________________________________\n",
      "conv2d (Conv2D)              (None, 64, 64, 32)        4736      \n",
      "_________________________________________________________________\n",
      "batch_normalization (BatchNo (None, 64, 64, 32)        128       \n",
      "_________________________________________________________________\n",
      "re_lu (ReLU)                 (None, 64, 64, 32)        0         \n",
      "_________________________________________________________________\n",
      "max_pooling2d (MaxPooling2D) (None, 32, 32, 32)        0         \n",
      "_________________________________________________________________\n",
      "flatten (Flatten)            (None, 32768)             0         \n",
      "_________________________________________________________________\n",
      "dense (Dense)                (None, 1)                 32769     \n",
      "=================================================================\n",
      "Total params: 37,633\n",
      "Trainable params: 37,569\n",
      "Non-trainable params: 64\n",
      "_________________________________________________________________\n"
     ]
    }
   ],
   "source": [
    "happy_model.summary()"
   ]
  },
  {
   "cell_type": "markdown",
   "metadata": {},
   "source": [
    "<a name='3-2'></a>\n",
    "### 3.2 - Train and Evaluate the Model\n",
    "\n",
    "After creating the model, compiling it with your choice of optimizer and loss function, and doing a sanity check on its contents, you are now ready to build! \n",
    "\n",
    "Simply call `.fit()` to train. That's it! No need for mini-batching, saving, or complex backpropagation computations. That's all been done for you, as you're using a TensorFlow dataset with the batches specified already. You do have the option to specify epoch number or minibatch size if you like (for example, in the case of an un-batched dataset)."
   ]
  },
  {
   "cell_type": "code",
   "execution_count": 10,
   "metadata": {},
   "outputs": [
    {
     "name": "stdout",
     "output_type": "stream",
     "text": [
      "Epoch 1/10\n",
      "38/38 [==============================] - 4s 100ms/step - loss: 0.7101 - accuracy: 0.8150\n",
      "Epoch 2/10\n",
      "38/38 [==============================] - 4s 95ms/step - loss: 0.1579 - accuracy: 0.9417\n",
      "Epoch 3/10\n",
      "38/38 [==============================] - 4s 97ms/step - loss: 0.1096 - accuracy: 0.9633\n",
      "Epoch 4/10\n",
      "38/38 [==============================] - 4s 95ms/step - loss: 0.0964 - accuracy: 0.9650\n",
      "Epoch 5/10\n",
      "38/38 [==============================] - 4s 97ms/step - loss: 0.0974 - accuracy: 0.9717\n",
      "Epoch 6/10\n",
      "38/38 [==============================] - 4s 95ms/step - loss: 0.0836 - accuracy: 0.9733\n",
      "Epoch 7/10\n",
      "38/38 [==============================] - 4s 95ms/step - loss: 0.0860 - accuracy: 0.9617\n",
      "Epoch 8/10\n",
      "38/38 [==============================] - 4s 97ms/step - loss: 0.1970 - accuracy: 0.9283\n",
      "Epoch 9/10\n",
      "38/38 [==============================] - 4s 95ms/step - loss: 0.1051 - accuracy: 0.9583\n",
      "Epoch 10/10\n",
      "38/38 [==============================] - 4s 100ms/step - loss: 0.1476 - accuracy: 0.9567\n"
     ]
    },
    {
     "data": {
      "text/plain": [
       "<tensorflow.python.keras.callbacks.History at 0x7fb33ddbc6d0>"
      ]
     },
     "execution_count": 10,
     "metadata": {},
     "output_type": "execute_result"
    }
   ],
   "source": [
    "happy_model.fit(X_train, Y_train, epochs=10, batch_size=16)"
   ]
  },
  {
   "cell_type": "markdown",
   "metadata": {},
   "source": [
    "After that completes, just use `.evaluate()` to evaluate against your test set. This function will print the value of the loss function and the performance metrics specified during the compilation of the model. In this case, the `binary_crossentropy` and the `accuracy` respectively."
   ]
  },
  {
   "cell_type": "code",
   "execution_count": 11,
   "metadata": {},
   "outputs": [
    {
     "name": "stdout",
     "output_type": "stream",
     "text": [
      "5/5 [==============================] - 0s 23ms/step - loss: 0.5524 - accuracy: 0.7600\n"
     ]
    },
    {
     "data": {
      "text/plain": [
       "[0.5524202585220337, 0.7599999904632568]"
      ]
     },
     "execution_count": 11,
     "metadata": {},
     "output_type": "execute_result"
    }
   ],
   "source": [
    "happy_model.evaluate(X_test, Y_test)"
   ]
  },
  {
   "cell_type": "markdown",
   "metadata": {},
   "source": [
    "Easy, right? But what if you need to build a model with shared layers, branches, or multiple inputs and outputs? This is where Sequential, with its beautifully simple yet limited functionality, won't be able to help you. \n",
    "\n",
    "Next up: Enter the Functional API, your slightly more complex, highly flexible friend.  "
   ]
  },
  {
   "cell_type": "markdown",
   "metadata": {},
   "source": [
    "<a name='4'></a>\n",
    "## 4 - The Functional API"
   ]
  },
  {
   "cell_type": "markdown",
   "metadata": {},
   "source": [
    "Welcome to the second half of the assignment, where you'll use Keras' flexible [Functional API](https://www.tensorflow.org/guide/keras/functional) to build a ConvNet that can differentiate between 6 sign language digits. \n",
    "\n",
    "The Functional API can handle models with non-linear topology, shared layers, as well as layers with multiple inputs or outputs. Imagine that, where the Sequential API requires the model to move in a linear fashion through its layers, the Functional API allows much more flexibility. Where Sequential is a straight line, a Functional model is a graph, where the nodes of the layers can connect in many more ways than one. \n",
    "\n",
    "In the visual example below, the one possible direction of the movement Sequential model is shown in contrast to a skip connection, which is just one of the many ways a Functional model can be constructed. A skip connection, as you might have guessed, skips some layer in the network and feeds the output to a later layer in the network. Don't worry, you'll be spending more time with skip connections very soon! "
   ]
  },
  {
   "cell_type": "markdown",
   "metadata": {},
   "source": [
    "<img src=\"images/seq_vs_func.png\" style=\"width:350px;height:200px;\">"
   ]
  },
  {
   "cell_type": "markdown",
   "metadata": {},
   "source": [
    "<a name='4-1'></a>\n",
    "### 4.1 - Load the SIGNS Dataset\n",
    "\n",
    "As a reminder, the SIGNS dataset is a collection of 6 signs representing numbers from 0 to 5."
   ]
  },
  {
   "cell_type": "code",
   "execution_count": 12,
   "metadata": {},
   "outputs": [],
   "source": [
    "# Loading the data (signs)\n",
    "X_train_orig, Y_train_orig, X_test_orig, Y_test_orig, classes = load_signs_dataset()"
   ]
  },
  {
   "cell_type": "markdown",
   "metadata": {},
   "source": [
    "<img src=\"images/SIGNS.png\" style=\"width:800px;height:300px;\">\n",
    "\n",
    "The next cell will show you an example of a labelled image in the dataset. Feel free to change the value of `index` below and re-run to see different examples. "
   ]
  },
  {
   "cell_type": "code",
   "execution_count": 13,
   "metadata": {},
   "outputs": [
    {
     "name": "stdout",
     "output_type": "stream",
     "text": [
      "y = 4\n"
     ]
    },
    {
     "data": {
      "image/png": "[encoded data removed]",
      "text/plain": [
       "<Figure size 432x288 with 1 Axes>"
      ]
     },
     "metadata": {
      "needs_background": "light"
     },
     "output_type": "display_data"
    }
   ],
   "source": [
    "# Example of an image from the dataset\n",
    "index = 9\n",
    "plt.imshow(X_train_orig[index])\n",
    "print (\"y = \" + str(np.squeeze(Y_train_orig[:, index])))"
   ]
  },
  {
   "cell_type": "markdown",
   "metadata": {},
   "source": [
    "<a name='4-2'></a>\n",
    "### 4.2 - Split the Data into Train/Test Sets\n",
    "\n",
    "In Course 2, you built a fully-connected network for this dataset. But since this is an image dataset, it is more natural to apply a ConvNet to it.\n",
    "\n",
    "To get started, let's examine the shapes of your data. "
   ]
  },
  {
   "cell_type": "code",
   "execution_count": 14,
   "metadata": {},
   "outputs": [
    {
     "name": "stdout",
     "output_type": "stream",
     "text": [
      "number of training examples = 1080\n",
      "number of test examples = 120\n",
      "X_train shape: (1080, 64, 64, 3)\n",
      "Y_train shape: (1080, 6)\n",
      "X_test shape: (120, 64, 64, 3)\n",
      "Y_test shape: (120, 6)\n"
     ]
    }
   ],
   "source": [
    "X_train = X_train_orig/255.\n",
    "X_test = X_test_orig/255.\n",
    "Y_train = convert_to_one_hot(Y_train_orig, 6).T\n",
    "Y_test = convert_to_one_hot(Y_test_orig, 6).T\n",
    "print (\"number of training examples = \" + str(X_train.shape[0]))\n",
    "print (\"number of test examples = \" + str(X_test.shape[0]))\n",
    "print (\"X_train shape: \" + str(X_train.shape))\n",
    "print (\"Y_train shape: \" + str(Y_train.shape))\n",
    "print (\"X_test shape: \" + str(X_test.shape))\n",
    "print (\"Y_test shape: \" + str(Y_test.shape))"
   ]
  },
  {
   "cell_type": "markdown",
   "metadata": {},
   "source": [
    "<a name='4-3'></a>\n",
    "### 4.3 - Forward Propagation\n",
    "\n",
    "In TensorFlow, there are built-in functions that implement the convolution steps for you. By now, you should be familiar with how TensorFlow builds computational graphs. In the [Functional API](https://www.tensorflow.org/guide/keras/functional), you create a graph of layers. This is what allows such great flexibility.\n",
    "\n",
    "However, the following model could also be defined using the Sequential API since the information flow is on a single line. But don't deviate. What we want you to learn is to use the functional API.\n",
    "\n",
    "Begin building your graph of layers by creating an input node that functions as a callable object:\n",
    "\n",
    "- **input_img = tf.keras.Input(shape=input_shape):** \n",
    "\n",
    "Then, create a new node in the graph of layers by calling a layer on the `input_img` object: \n",
    "\n",
    "- **tf.keras.layers.Conv2D(filters= ... , kernel_size= ... , padding='same')(input_img):** Read the full documentation on [Conv2D](https://www.tensorflow.org/api_docs/python/tf/keras/layers/Conv2D).\n",
    "\n",
    "- **tf.keras.layers.MaxPool2D(pool_size=(f, f), strides=(s, s), padding='same'):** `MaxPool2D()` downsamples your input using a window of size (f, f) and strides of size (s, s) to carry out max pooling over each window.  For max pooling, you usually operate on a single example at a time and a single channel at a time. Read the full documentation on [MaxPool2D](https://www.tensorflow.org/api_docs/python/tf/keras/layers/MaxPool2D).\n",
    "\n",
    "- **tf.keras.layers.ReLU():** computes the elementwise ReLU of Z (which can be any shape). You can read the full documentation on [ReLU](https://www.tensorflow.org/api_docs/python/tf/keras/layers/ReLU).\n",
    "\n",
    "- **tf.keras.layers.Flatten()**: given a tensor \"P\", this function takes each training (or test) example in the batch and flattens it into a 1D vector.  \n",
    "\n",
    "    * If a tensor P has the shape (batch_size,h,w,c), it returns a flattened tensor with shape (batch_size, k), where $k=h \\times w \\times c$.  \"k\" equals the product of all the dimension sizes other than the first dimension.\n",
    "    \n",
    "    * For example, given a tensor with dimensions [100, 2, 3, 4], it flattens the tensor to be of shape [100, 24], where 24 = 2 * 3 * 4.  You can read the full documentation on [Flatten](https://www.tensorflow.org/api_docs/python/tf/keras/layers/Flatten).\n",
    "\n",
    "- **tf.keras.layers.Dense(units= ... , activation='softmax')(F):** given the flattened input F, it returns the output computed using a fully connected layer. You can read the full documentation on [Dense](https://www.tensorflow.org/api_docs/python/tf/keras/layers/Dense).\n",
    "\n",
    "In the last function above (`tf.keras.layers.Dense()`), the fully connected layer automatically initializes weights in the graph and keeps on training them as you train the model. Hence, you did not need to initialize those weights when initializing the parameters.\n",
    "\n",
    "Lastly, before creating the model, you'll need to define the output using the last of the function's compositions (in this example, a Dense layer): \n",
    "\n",
    "- **outputs = tf.keras.layers.Dense(units=6, activation='softmax')(F)**\n",
    "\n",
    "\n",
    "#### Window, kernel, filter, pool\n",
    "\n",
    "The words \"kernel\" and \"filter\" are used to refer to the same thing. The word \"filter\" accounts for the amount of \"kernels\" that will be used in a single convolution layer. \"Pool\" is the name of the operation that takes the max or average value of the kernels. \n",
    "\n",
    "This is why the parameter `pool_size` refers to `kernel_size`, and you use `(f,f)` to refer to the filter size. \n",
    "\n",
    "Pool size and kernel size refer to the same thing in different objects - They refer to the shape of the window where the operation takes place. "
   ]
  },
  {
   "cell_type": "markdown",
   "metadata": {},
   "source": [
    "<a name='ex-2'></a>\n",
    "### Exercise 2 - convolutional_model\n",
    "\n",
    "Implement the `convolutional_model` function below to build the following model: `CONV2D -> RELU -> MAXPOOL -> CONV2D -> RELU -> MAXPOOL -> FLATTEN -> DENSE`. Use the functions above! \n",
    "\n",
    "Also, plug in the following parameters for all the steps:\n",
    "\n",
    " - [Conv2D](https://www.tensorflow.org/api_docs/python/tf/keras/layers/Conv2D): Use 8 4 by 4 filters, stride 1, padding is \"SAME\"\n",
    " - [ReLU](https://www.tensorflow.org/api_docs/python/tf/keras/layers/ReLU)\n",
    " - [MaxPool2D](https://www.tensorflow.org/api_docs/python/tf/keras/layers/MaxPool2D): Use an 8 by 8 filter size and an 8 by 8 stride, padding is \"SAME\"\n",
    " - **Conv2D**: Use 16 2 by 2 filters, stride 1, padding is \"SAME\"\n",
    " - **ReLU**\n",
    " - **MaxPool2D**: Use a 4 by 4 filter size and a 4 by 4 stride, padding is \"SAME\"\n",
    " - [Flatten](https://www.tensorflow.org/api_docs/python/tf/keras/layers/Flatten) the previous output.\n",
    " - Fully-connected ([Dense](https://www.tensorflow.org/api_docs/python/tf/keras/layers/Dense)) layer: Apply a fully connected layer with 6 neurons and a softmax activation. "
   ]
  },
  {
   "cell_type": "code",
   "execution_count": 33,
   "metadata": {
    "deletable": false,
    "nbgrader": {
     "cell_type": "code",
     "checksum": "f58643806aa8380c96225fc8b4c5e7aa",
     "grade": false,
     "grade_id": "cell-dac51744a9e03f51",
     "locked": false,
     "schema_version": 3,
     "solution": true,
     "task": false
    }
   },
   "outputs": [],
   "source": [
    "# GRADED FUNCTION: convolutional_model\n",
    "\n",
    "def convolutional_model(input_shape):\n",
    "    \"\"\"\n",
    "    Implements the forward propagation for the model:\n",
    "    CONV2D -> RELU -> MAXPOOL -> CONV2D -> RELU -> MAXPOOL -> FLATTEN -> DENSE\n",
    "    \n",
    "    Note that for simplicity and grading purposes, you'll hard-code some values\n",
    "    such as the stride and kernel (filter) sizes. \n",
    "    Normally, functions should take these values as function parameters.\n",
    "    \n",
    "    Arguments:\n",
    "    input_img -- input dataset, of shape (input_shape)\n",
    "\n",
    "    Returns:\n",
    "    model -- TF Keras model (object containing the information for the entire training process) \n",
    "    \"\"\"\n",
    "\n",
    "    input_img = tf.keras.Input(shape=input_shape)\n",
    "    ## CONV2D: 8 filters 4x4, stride of 1, padding 'SAME'\n",
    "    x = tf.keras.layers.Conv2D(8, (4, 4), strides = (1, 1), padding = 'SAME')(input_img)\n",
    "    \n",
    "    ## RELU\n",
    "    x = tf.keras.layers.ReLU()(x)\n",
    "    \n",
    "    ## MAXPOOL: window 8x8, stride 8, padding 'SAME'\n",
    "    x = tf.keras.layers.MaxPool2D((8, 8), strides = (8, 8), padding = 'SAME')(x)\n",
    "    \n",
    "    ## CONV2D: 16 filters 2x2, stride 1, padding 'SAME'\n",
    "    \n",
    "    x = tf.keras.layers.Conv2D(16, (2, 2), strides = (1, 1), padding = 'SAME')(x)\n",
    "    ## RELU\n",
    "    x = tf.keras.layers.ReLU()(x)\n",
    "    ## MAXPOOL: window 4x4, stride 4, padding 'SAME'\n",
    "    x = tf.keras.layers.MaxPool2D((4, 4), strides = (4, 4), padding = 'SAME')(x)\n",
    "    \n",
    "    ## FLATTEN\n",
    "    x = tf.keras.layers.Flatten()(x)\n",
    "    \n",
    "    ## Dense layer\n",
    "    ## 6 neurons in output layer. Hint: one of the arguments should be \"activation='softmax'\" \n",
    "    x = tf.keras.layers.Dense(6, activation = 'softmax')(x)\n",
    "    \n",
    "    outputs = x\n",
    "    # YOUR CODE STARTS HERE\n",
    "    \n",
    "    \n",
    "    # YOUR CODE ENDS HERE\n",
    "    model = tf.keras.Model(inputs=input_img, outputs=outputs)\n",
    "    return model"
   ]
  },
  {
   "cell_type": "code",
   "execution_count": 34,
   "metadata": {
    "deletable": false,
    "editable": false,
    "nbgrader": {
     "cell_type": "code",
     "checksum": "483d626949930a0b0ef20997e7c6ba72",
     "grade": true,
     "grade_id": "cell-45d22e92042174c9",
     "locked": true,
     "points": 10,
     "schema_version": 3,
     "solution": false,
     "task": false
    }
   },
   "outputs": [
    {
     "name": "stdout",
     "output_type": "stream",
     "text": [
      "Model: \"functional_7\"\n",
      "_________________________________________________________________\n",
      "Layer (type)                 Output Shape              Param #   \n",
      "=================================================================\n",
      "input_9 (InputLayer)         [(None, 64, 64, 3)]       0         \n",
      "_________________________________________________________________\n",
      "conv2d_9 (Conv2D)            (None, 64, 64, 8)         392       \n",
      "_________________________________________________________________\n",
      "re_lu_3 (ReLU)               (None, 64, 64, 8)         0         \n",
      "_________________________________________________________________\n",
      "max_pooling2d_5 (MaxPooling2 (None, 8, 8, 8)           0         \n",
      "_________________________________________________________________\n",
      "conv2d_10 (Conv2D)           (None, 8, 8, 16)          528       \n",
      "_________________________________________________________________\n",
      "re_lu_4 (ReLU)               (None, 8, 8, 16)          0         \n",
      "_________________________________________________________________\n",
      "max_pooling2d_6 (MaxPooling2 (None, 2, 2, 16)          0         \n",
      "_________________________________________________________________\n",
      "flatten_3 (Flatten)          (None, 64)                0         \n",
      "_________________________________________________________________\n",
      "dense_3 (Dense)              (None, 6)                 390       \n",
      "=================================================================\n",
      "Total params: 1,310\n",
      "Trainable params: 1,310\n",
      "Non-trainable params: 0\n",
      "_________________________________________________________________\n",
      "\u001b[32mAll tests passed!\u001b[0m\n"
     ]
    }
   ],
   "source": [
    "conv_model = convolutional_model((64, 64, 3))\n",
    "conv_model.compile(optimizer='adam',\n",
    "                  loss='categorical_crossentropy',\n",
    "                  metrics=['accuracy'])\n",
    "conv_model.summary()\n",
    "    \n",
    "output = [['InputLayer', [(None, 64, 64, 3)], 0],\n",
    "        ['Conv2D', (None, 64, 64, 8), 392, 'same', 'linear', 'GlorotUniform'],\n",
    "        ['ReLU', (None, 64, 64, 8), 0],\n",
    "        ['MaxPooling2D', (None, 8, 8, 8), 0, (8, 8), (8, 8), 'same'],\n",
    "        ['Conv2D', (None, 8, 8, 16), 528, 'same', 'linear', 'GlorotUniform'],\n",
    "        ['ReLU', (None, 8, 8, 16), 0],\n",
    "        ['MaxPooling2D', (None, 2, 2, 16), 0, (4, 4), (4, 4), 'same'],\n",
    "        ['Flatten', (None, 64), 0],\n",
    "        ['Dense', (None, 6), 390, 'softmax']]\n",
    "    \n",
    "comparator(summary(conv_model), output)"
   ]
  },
  {
   "cell_type": "markdown",
   "metadata": {},
   "source": [
    "Both the Sequential and Functional APIs return a TF Keras model object. The only difference is how inputs are handled inside the object model! "
   ]
  },
  {
   "cell_type": "markdown",
   "metadata": {},
   "source": [
    "<a name='4-4'></a>\n",
    "### 4.4 - Train the Model"
   ]
  },
  {
   "cell_type": "code",
   "execution_count": 35,
   "metadata": {},
   "outputs": [
    {
     "name": "stdout",
     "output_type": "stream",
     "text": [
      "Epoch 1/100\n",
      "17/17 [==============================] - 2s 106ms/step - loss: 1.8126 - accuracy: 0.1491 - val_loss: 1.7957 - val_accuracy: 0.1500\n",
      "Epoch 2/100\n",
      "17/17 [==============================] - 2s 106ms/step - loss: 1.7921 - accuracy: 0.1935 - val_loss: 1.7884 - val_accuracy: 0.1917\n",
      "Epoch 3/100\n",
      "17/17 [==============================] - 2s 106ms/step - loss: 1.7868 - accuracy: 0.2130 - val_loss: 1.7835 - val_accuracy: 0.2333\n",
      "Epoch 4/100\n",
      "17/17 [==============================] - 2s 105ms/step - loss: 1.7831 - accuracy: 0.2231 - val_loss: 1.7795 - val_accuracy: 0.2500\n",
      "Epoch 5/100\n",
      "17/17 [==============================] - 2s 106ms/step - loss: 1.7783 - accuracy: 0.2370 - val_loss: 1.7746 - val_accuracy: 0.2750\n",
      "Epoch 6/100\n",
      "17/17 [==============================] - 2s 106ms/step - loss: 1.7735 - accuracy: 0.2870 - val_loss: 1.7686 - val_accuracy: 0.3667\n",
      "Epoch 7/100\n",
      "17/17 [==============================] - 2s 106ms/step - loss: 1.7682 - accuracy: 0.3037 - val_loss: 1.7630 - val_accuracy: 0.3750\n",
      "Epoch 8/100\n",
      "17/17 [==============================] - 2s 106ms/step - loss: 1.7625 - accuracy: 0.3370 - val_loss: 1.7574 - val_accuracy: 0.3667\n",
      "Epoch 9/100\n",
      "17/17 [==============================] - 2s 106ms/step - loss: 1.7561 - accuracy: 0.3380 - val_loss: 1.7504 - val_accuracy: 0.3750\n",
      "Epoch 10/100\n",
      "17/17 [==============================] - 2s 106ms/step - loss: 1.7482 - accuracy: 0.3463 - val_loss: 1.7416 - val_accuracy: 0.3917\n",
      "Epoch 11/100\n",
      "17/17 [==============================] - 2s 106ms/step - loss: 1.7384 - accuracy: 0.3750 - val_loss: 1.7314 - val_accuracy: 0.4000\n",
      "Epoch 12/100\n",
      "17/17 [==============================] - 2s 106ms/step - loss: 1.7266 - accuracy: 0.3935 - val_loss: 1.7191 - val_accuracy: 0.4083\n",
      "Epoch 13/100\n",
      "17/17 [==============================] - 2s 106ms/step - loss: 1.7122 - accuracy: 0.4009 - val_loss: 1.7034 - val_accuracy: 0.4500\n",
      "Epoch 14/100\n",
      "17/17 [==============================] - 2s 111ms/step - loss: 1.6947 - accuracy: 0.4065 - val_loss: 1.6839 - val_accuracy: 0.4667\n",
      "Epoch 15/100\n",
      "17/17 [==============================] - 2s 106ms/step - loss: 1.6731 - accuracy: 0.4389 - val_loss: 1.6608 - val_accuracy: 0.4917\n",
      "Epoch 16/100\n",
      "17/17 [==============================] - 2s 101ms/step - loss: 1.6480 - accuracy: 0.4426 - val_loss: 1.6356 - val_accuracy: 0.5000\n",
      "Epoch 17/100\n",
      "17/17 [==============================] - 2s 106ms/step - loss: 1.6191 - accuracy: 0.4537 - val_loss: 1.6067 - val_accuracy: 0.5167\n",
      "Epoch 18/100\n",
      "17/17 [==============================] - 2s 106ms/step - loss: 1.5867 - accuracy: 0.4593 - val_loss: 1.5749 - val_accuracy: 0.5333\n",
      "Epoch 19/100\n",
      "17/17 [==============================] - 2s 106ms/step - loss: 1.5522 - accuracy: 0.4667 - val_loss: 1.5390 - val_accuracy: 0.5167\n",
      "Epoch 20/100\n",
      "17/17 [==============================] - 2s 106ms/step - loss: 1.5176 - accuracy: 0.4787 - val_loss: 1.5046 - val_accuracy: 0.5083\n",
      "Epoch 21/100\n",
      "17/17 [==============================] - 2s 106ms/step - loss: 1.4826 - accuracy: 0.4870 - val_loss: 1.4683 - val_accuracy: 0.5083\n",
      "Epoch 22/100\n",
      "17/17 [==============================] - 2s 106ms/step - loss: 1.4475 - accuracy: 0.5037 - val_loss: 1.4319 - val_accuracy: 0.5417\n",
      "Epoch 23/100\n",
      "17/17 [==============================] - 2s 100ms/step - loss: 1.4130 - accuracy: 0.5250 - val_loss: 1.3965 - val_accuracy: 0.5417\n",
      "Epoch 24/100\n",
      "17/17 [==============================] - 2s 106ms/step - loss: 1.3791 - accuracy: 0.5370 - val_loss: 1.3623 - val_accuracy: 0.5417\n",
      "Epoch 25/100\n",
      "17/17 [==============================] - 2s 111ms/step - loss: 1.3453 - accuracy: 0.5593 - val_loss: 1.3283 - val_accuracy: 0.5250\n",
      "Epoch 26/100\n",
      "17/17 [==============================] - 2s 105ms/step - loss: 1.3130 - accuracy: 0.5787 - val_loss: 1.2970 - val_accuracy: 0.5500\n",
      "Epoch 27/100\n",
      "17/17 [==============================] - 2s 106ms/step - loss: 1.2821 - accuracy: 0.5861 - val_loss: 1.2664 - val_accuracy: 0.5500\n",
      "Epoch 28/100\n",
      "17/17 [==============================] - 2s 106ms/step - loss: 1.2508 - accuracy: 0.6037 - val_loss: 1.2372 - val_accuracy: 0.5833\n",
      "Epoch 29/100\n",
      "17/17 [==============================] - 2s 106ms/step - loss: 1.2209 - accuracy: 0.6231 - val_loss: 1.2102 - val_accuracy: 0.5917\n",
      "Epoch 30/100\n",
      "17/17 [==============================] - 2s 106ms/step - loss: 1.1920 - accuracy: 0.6287 - val_loss: 1.1846 - val_accuracy: 0.6250\n",
      "Epoch 31/100\n",
      "17/17 [==============================] - 2s 106ms/step - loss: 1.1641 - accuracy: 0.6380 - val_loss: 1.1594 - val_accuracy: 0.6083\n",
      "Epoch 32/100\n",
      "17/17 [==============================] - 2s 107ms/step - loss: 1.1363 - accuracy: 0.6565 - val_loss: 1.1337 - val_accuracy: 0.6167\n",
      "Epoch 33/100\n",
      "17/17 [==============================] - 2s 106ms/step - loss: 1.1096 - accuracy: 0.6648 - val_loss: 1.1095 - val_accuracy: 0.6333\n",
      "Epoch 34/100\n",
      "17/17 [==============================] - 2s 106ms/step - loss: 1.0815 - accuracy: 0.6657 - val_loss: 1.0863 - val_accuracy: 0.6500\n",
      "Epoch 35/100\n",
      "17/17 [==============================] - 2s 101ms/step - loss: 1.0560 - accuracy: 0.6806 - val_loss: 1.0634 - val_accuracy: 0.6333\n",
      "Epoch 36/100\n",
      "17/17 [==============================] - 2s 106ms/step - loss: 1.0321 - accuracy: 0.6852 - val_loss: 1.0435 - val_accuracy: 0.6750\n",
      "Epoch 37/100\n",
      "17/17 [==============================] - 2s 106ms/step - loss: 1.0074 - accuracy: 0.6926 - val_loss: 1.0209 - val_accuracy: 0.6917\n",
      "Epoch 38/100\n",
      "17/17 [==============================] - 2s 106ms/step - loss: 0.9841 - accuracy: 0.6898 - val_loss: 1.0030 - val_accuracy: 0.6917\n",
      "Epoch 39/100\n",
      "17/17 [==============================] - 2s 106ms/step - loss: 0.9614 - accuracy: 0.6981 - val_loss: 0.9828 - val_accuracy: 0.6917\n",
      "Epoch 40/100\n",
      "17/17 [==============================] - 2s 106ms/step - loss: 0.9395 - accuracy: 0.7074 - val_loss: 0.9652 - val_accuracy: 0.7167\n",
      "Epoch 41/100\n",
      "17/17 [==============================] - 2s 106ms/step - loss: 0.9186 - accuracy: 0.7157 - val_loss: 0.9472 - val_accuracy: 0.7000\n",
      "Epoch 42/100\n",
      "17/17 [==============================] - 2s 111ms/step - loss: 0.8983 - accuracy: 0.7259 - val_loss: 0.9306 - val_accuracy: 0.7000\n",
      "Epoch 43/100\n",
      "17/17 [==============================] - 2s 106ms/step - loss: 0.8791 - accuracy: 0.7315 - val_loss: 0.9145 - val_accuracy: 0.7167\n",
      "Epoch 44/100\n",
      "17/17 [==============================] - 2s 101ms/step - loss: 0.8614 - accuracy: 0.7380 - val_loss: 0.8999 - val_accuracy: 0.7333\n",
      "Epoch 45/100\n",
      "17/17 [==============================] - 2s 106ms/step - loss: 0.8432 - accuracy: 0.7380 - val_loss: 0.8850 - val_accuracy: 0.7167\n",
      "Epoch 46/100\n",
      "17/17 [==============================] - 2s 106ms/step - loss: 0.8271 - accuracy: 0.7435 - val_loss: 0.8716 - val_accuracy: 0.7250\n",
      "Epoch 47/100\n",
      "17/17 [==============================] - 2s 106ms/step - loss: 0.8104 - accuracy: 0.7481 - val_loss: 0.8572 - val_accuracy: 0.7167\n",
      "Epoch 48/100\n",
      "17/17 [==============================] - 2s 106ms/step - loss: 0.7947 - accuracy: 0.7537 - val_loss: 0.8447 - val_accuracy: 0.7167\n",
      "Epoch 49/100\n",
      "17/17 [==============================] - 2s 106ms/step - loss: 0.7796 - accuracy: 0.7611 - val_loss: 0.8316 - val_accuracy: 0.7250\n",
      "Epoch 50/100\n",
      "17/17 [==============================] - 2s 106ms/step - loss: 0.7655 - accuracy: 0.7630 - val_loss: 0.8199 - val_accuracy: 0.7167\n",
      "Epoch 51/100\n",
      "17/17 [==============================] - 2s 107ms/step - loss: 0.7512 - accuracy: 0.7694 - val_loss: 0.8077 - val_accuracy: 0.7333\n",
      "Epoch 52/100\n",
      "17/17 [==============================] - 2s 106ms/step - loss: 0.7379 - accuracy: 0.7722 - val_loss: 0.7960 - val_accuracy: 0.7333\n",
      "Epoch 53/100\n",
      "17/17 [==============================] - 2s 106ms/step - loss: 0.7249 - accuracy: 0.7722 - val_loss: 0.7843 - val_accuracy: 0.7250\n",
      "Epoch 54/100\n",
      "17/17 [==============================] - 2s 111ms/step - loss: 0.7129 - accuracy: 0.7778 - val_loss: 0.7718 - val_accuracy: 0.7250\n",
      "Epoch 55/100\n",
      "17/17 [==============================] - 2s 106ms/step - loss: 0.7005 - accuracy: 0.7787 - val_loss: 0.7597 - val_accuracy: 0.7333\n",
      "Epoch 56/100\n",
      "17/17 [==============================] - 2s 106ms/step - loss: 0.6883 - accuracy: 0.7824 - val_loss: 0.7478 - val_accuracy: 0.7417\n",
      "Epoch 57/100\n",
      "17/17 [==============================] - 2s 106ms/step - loss: 0.6768 - accuracy: 0.7852 - val_loss: 0.7359 - val_accuracy: 0.7333\n",
      "Epoch 58/100\n",
      "17/17 [==============================] - 2s 111ms/step - loss: 0.6657 - accuracy: 0.7870 - val_loss: 0.7253 - val_accuracy: 0.7500\n",
      "Epoch 59/100\n",
      "17/17 [==============================] - 2s 106ms/step - loss: 0.6547 - accuracy: 0.7870 - val_loss: 0.7135 - val_accuracy: 0.7417\n",
      "Epoch 60/100\n",
      "17/17 [==============================] - 2s 106ms/step - loss: 0.6444 - accuracy: 0.7898 - val_loss: 0.7029 - val_accuracy: 0.7417\n",
      "Epoch 61/100\n",
      "17/17 [==============================] - 2s 106ms/step - loss: 0.6344 - accuracy: 0.7926 - val_loss: 0.6934 - val_accuracy: 0.7417\n",
      "Epoch 62/100\n",
      "17/17 [==============================] - 2s 106ms/step - loss: 0.6247 - accuracy: 0.7981 - val_loss: 0.6833 - val_accuracy: 0.7417\n",
      "Epoch 63/100\n",
      "17/17 [==============================] - 2s 106ms/step - loss: 0.6153 - accuracy: 0.8000 - val_loss: 0.6734 - val_accuracy: 0.7500\n",
      "Epoch 64/100\n",
      "17/17 [==============================] - 2s 107ms/step - loss: 0.6060 - accuracy: 0.8056 - val_loss: 0.6648 - val_accuracy: 0.7500\n",
      "Epoch 65/100\n",
      "17/17 [==============================] - 2s 106ms/step - loss: 0.5970 - accuracy: 0.8065 - val_loss: 0.6550 - val_accuracy: 0.7583\n",
      "Epoch 66/100\n",
      "17/17 [==============================] - 2s 106ms/step - loss: 0.5881 - accuracy: 0.8065 - val_loss: 0.6471 - val_accuracy: 0.7583\n",
      "Epoch 67/100\n",
      "17/17 [==============================] - 2s 106ms/step - loss: 0.5794 - accuracy: 0.8093 - val_loss: 0.6390 - val_accuracy: 0.7667\n",
      "Epoch 68/100\n",
      "17/17 [==============================] - 2s 106ms/step - loss: 0.5710 - accuracy: 0.8120 - val_loss: 0.6311 - val_accuracy: 0.7667\n",
      "Epoch 69/100\n",
      "17/17 [==============================] - 2s 111ms/step - loss: 0.5631 - accuracy: 0.8157 - val_loss: 0.6236 - val_accuracy: 0.7667\n",
      "Epoch 70/100\n",
      "17/17 [==============================] - 2s 106ms/step - loss: 0.5555 - accuracy: 0.8185 - val_loss: 0.6163 - val_accuracy: 0.7667\n",
      "Epoch 71/100\n",
      "17/17 [==============================] - 2s 106ms/step - loss: 0.5480 - accuracy: 0.8213 - val_loss: 0.6094 - val_accuracy: 0.7667\n",
      "Epoch 72/100\n",
      "17/17 [==============================] - 2s 106ms/step - loss: 0.5402 - accuracy: 0.8222 - val_loss: 0.6031 - val_accuracy: 0.7667\n",
      "Epoch 73/100\n",
      "17/17 [==============================] - 2s 106ms/step - loss: 0.5333 - accuracy: 0.8241 - val_loss: 0.5965 - val_accuracy: 0.7750\n",
      "Epoch 74/100\n",
      "17/17 [==============================] - 2s 106ms/step - loss: 0.5261 - accuracy: 0.8315 - val_loss: 0.5903 - val_accuracy: 0.7750\n",
      "Epoch 75/100\n",
      "17/17 [==============================] - 2s 106ms/step - loss: 0.5190 - accuracy: 0.8333 - val_loss: 0.5840 - val_accuracy: 0.7750\n",
      "Epoch 76/100\n",
      "17/17 [==============================] - 2s 106ms/step - loss: 0.5128 - accuracy: 0.8370 - val_loss: 0.5783 - val_accuracy: 0.7667\n",
      "Epoch 77/100\n",
      "17/17 [==============================] - 2s 100ms/step - loss: 0.5061 - accuracy: 0.8398 - val_loss: 0.5732 - val_accuracy: 0.7750\n",
      "Epoch 78/100\n",
      "17/17 [==============================] - 2s 106ms/step - loss: 0.5004 - accuracy: 0.8426 - val_loss: 0.5679 - val_accuracy: 0.7750\n",
      "Epoch 79/100\n",
      "17/17 [==============================] - 2s 106ms/step - loss: 0.4936 - accuracy: 0.8463 - val_loss: 0.5629 - val_accuracy: 0.7750\n",
      "Epoch 80/100\n",
      "17/17 [==============================] - 2s 101ms/step - loss: 0.4876 - accuracy: 0.8500 - val_loss: 0.5581 - val_accuracy: 0.7750\n",
      "Epoch 81/100\n",
      "17/17 [==============================] - 2s 101ms/step - loss: 0.4816 - accuracy: 0.8509 - val_loss: 0.5531 - val_accuracy: 0.7750\n",
      "Epoch 82/100\n",
      "17/17 [==============================] - 2s 105ms/step - loss: 0.4758 - accuracy: 0.8546 - val_loss: 0.5483 - val_accuracy: 0.7833\n",
      "Epoch 83/100\n",
      "17/17 [==============================] - 2s 105ms/step - loss: 0.4695 - accuracy: 0.8546 - val_loss: 0.5439 - val_accuracy: 0.7833\n",
      "Epoch 84/100\n",
      "17/17 [==============================] - 2s 101ms/step - loss: 0.4637 - accuracy: 0.8565 - val_loss: 0.5397 - val_accuracy: 0.7917\n",
      "Epoch 85/100\n",
      "17/17 [==============================] - 2s 106ms/step - loss: 0.4584 - accuracy: 0.8583 - val_loss: 0.5356 - val_accuracy: 0.7917\n",
      "Epoch 86/100\n",
      "17/17 [==============================] - 2s 106ms/step - loss: 0.4531 - accuracy: 0.8611 - val_loss: 0.5315 - val_accuracy: 0.8000\n",
      "Epoch 87/100\n",
      "17/17 [==============================] - 2s 106ms/step - loss: 0.4480 - accuracy: 0.8630 - val_loss: 0.5277 - val_accuracy: 0.8083\n",
      "Epoch 88/100\n",
      "17/17 [==============================] - 2s 106ms/step - loss: 0.4429 - accuracy: 0.8667 - val_loss: 0.5239 - val_accuracy: 0.8083\n",
      "Epoch 89/100\n",
      "17/17 [==============================] - 2s 106ms/step - loss: 0.4382 - accuracy: 0.8676 - val_loss: 0.5206 - val_accuracy: 0.8083\n",
      "Epoch 90/100\n",
      "17/17 [==============================] - 2s 101ms/step - loss: 0.4334 - accuracy: 0.8704 - val_loss: 0.5170 - val_accuracy: 0.8083\n",
      "Epoch 91/100\n",
      "17/17 [==============================] - 2s 106ms/step - loss: 0.4288 - accuracy: 0.8731 - val_loss: 0.5140 - val_accuracy: 0.8083\n",
      "Epoch 92/100\n",
      "17/17 [==============================] - 2s 106ms/step - loss: 0.4242 - accuracy: 0.8750 - val_loss: 0.5109 - val_accuracy: 0.8083\n",
      "Epoch 93/100\n",
      "17/17 [==============================] - 2s 106ms/step - loss: 0.4198 - accuracy: 0.8759 - val_loss: 0.5076 - val_accuracy: 0.8083\n",
      "Epoch 94/100\n",
      "17/17 [==============================] - 2s 106ms/step - loss: 0.4152 - accuracy: 0.8778 - val_loss: 0.5046 - val_accuracy: 0.8083\n",
      "Epoch 95/100\n",
      "17/17 [==============================] - 2s 106ms/step - loss: 0.4108 - accuracy: 0.8787 - val_loss: 0.5015 - val_accuracy: 0.8167\n",
      "Epoch 96/100\n",
      "17/17 [==============================] - 2s 106ms/step - loss: 0.4065 - accuracy: 0.8815 - val_loss: 0.4984 - val_accuracy: 0.8250\n",
      "Epoch 97/100\n",
      "17/17 [==============================] - 2s 106ms/step - loss: 0.4024 - accuracy: 0.8815 - val_loss: 0.4956 - val_accuracy: 0.8250\n",
      "Epoch 98/100\n",
      "17/17 [==============================] - 2s 106ms/step - loss: 0.3983 - accuracy: 0.8824 - val_loss: 0.4925 - val_accuracy: 0.8250\n",
      "Epoch 99/100\n",
      "17/17 [==============================] - 2s 101ms/step - loss: 0.3942 - accuracy: 0.8833 - val_loss: 0.4900 - val_accuracy: 0.8250\n",
      "Epoch 100/100\n",
      "17/17 [==============================] - 2s 106ms/step - loss: 0.3903 - accuracy: 0.8861 - val_loss: 0.4872 - val_accuracy: 0.8250\n"
     ]
    }
   ],
   "source": [
    "train_dataset = tf.data.Dataset.from_tensor_slices((X_train, Y_train)).batch(64)\n",
    "test_dataset = tf.data.Dataset.from_tensor_slices((X_test, Y_test)).batch(64)\n",
    "history = conv_model.fit(train_dataset, epochs=100, validation_data=test_dataset)"
   ]
  },
  {
   "cell_type": "markdown",
   "metadata": {},
   "source": [
    "<a name='5'></a>\n",
    "## 5 - History Object \n",
    "\n",
    "The history object is an output of the `.fit()` operation, and provides a record of all the loss and metric values in memory. It's stored as a dictionary that you can retrieve at `history.history`: "
   ]
  },
  {
   "cell_type": "code",
   "execution_count": 36,
   "metadata": {},
   "outputs": [
    {
     "data": {
      "text/plain": [
       "{'loss': [1.81263267993927,\n",
       "  1.792067289352417,\n",
       "  1.7867854833602905,\n",
       "  1.7831023931503296,\n",
       "  1.7783281803131104,\n",
       "  1.773520827293396,\n",
       "  1.7681859731674194,\n",
       "  1.7625012397766113,\n",
       "  1.7561025619506836,\n",
       "  1.7482094764709473,\n",
       "  1.7384333610534668,\n",
       "  1.7266203165054321,\n",
       "  1.712185025215149,\n",
       "  1.694664478302002,\n",
       "  1.6730897426605225,\n",
       "  1.6480045318603516,\n",
       "  1.6191378831863403,\n",
       "  1.586660623550415,\n",
       "  1.552166223526001,\n",
       "  1.5175546407699585,\n",
       "  1.482608675956726,\n",
       "  1.4474605321884155,\n",
       "  1.412985920906067,\n",
       "  1.379107117652893,\n",
       "  1.345330834388733,\n",
       "  1.3129841089248657,\n",
       "  1.2820799350738525,\n",
       "  1.2508352994918823,\n",
       "  1.2209346294403076,\n",
       "  1.1920020580291748,\n",
       "  1.164139986038208,\n",
       "  1.136315941810608,\n",
       "  1.1096144914627075,\n",
       "  1.0815192461013794,\n",
       "  1.0559781789779663,\n",
       "  1.0321259498596191,\n",
       "  1.0074251890182495,\n",
       "  0.9840826988220215,\n",
       "  0.9613701701164246,\n",
       "  0.9395291805267334,\n",
       "  0.9186205863952637,\n",
       "  0.8983447551727295,\n",
       "  0.8790681958198547,\n",
       "  0.8614338040351868,\n",
       "  0.8431859612464905,\n",
       "  0.8271046876907349,\n",
       "  0.8104256987571716,\n",
       "  0.7947432994842529,\n",
       "  0.779562771320343,\n",
       "  0.7655110955238342,\n",
       "  0.7511692643165588,\n",
       "  0.7378723621368408,\n",
       "  0.7249401807785034,\n",
       "  0.7128505110740662,\n",
       "  0.7005429267883301,\n",
       "  0.6882680654525757,\n",
       "  0.6768259406089783,\n",
       "  0.6657288074493408,\n",
       "  0.6547132730484009,\n",
       "  0.6443590521812439,\n",
       "  0.6343604922294617,\n",
       "  0.6246869564056396,\n",
       "  0.6152806878089905,\n",
       "  0.6059573292732239,\n",
       "  0.596991240978241,\n",
       "  0.5881356596946716,\n",
       "  0.5793954133987427,\n",
       "  0.5709852576255798,\n",
       "  0.5630753636360168,\n",
       "  0.5555205345153809,\n",
       "  0.5479894280433655,\n",
       "  0.5402059555053711,\n",
       "  0.5333171486854553,\n",
       "  0.5260730385780334,\n",
       "  0.5190268158912659,\n",
       "  0.5128284692764282,\n",
       "  0.5060984492301941,\n",
       "  0.5004234313964844,\n",
       "  0.49359384179115295,\n",
       "  0.48760268092155457,\n",
       "  0.4815536439418793,\n",
       "  0.47580283880233765,\n",
       "  0.46948355436325073,\n",
       "  0.46366384625434875,\n",
       "  0.458438903093338,\n",
       "  0.4531485140323639,\n",
       "  0.4479885995388031,\n",
       "  0.442908376455307,\n",
       "  0.4381553828716278,\n",
       "  0.4333881437778473,\n",
       "  0.42875349521636963,\n",
       "  0.42423397302627563,\n",
       "  0.4197554290294647,\n",
       "  0.41523709893226624,\n",
       "  0.41084399819374084,\n",
       "  0.40653136372566223,\n",
       "  0.40236201882362366,\n",
       "  0.3982643187046051,\n",
       "  0.3941971957683563,\n",
       "  0.3903171420097351],\n",
       " 'accuracy': [0.14907407760620117,\n",
       "  0.1935185194015503,\n",
       "  0.21296297013759613,\n",
       "  0.2231481522321701,\n",
       "  0.2370370328426361,\n",
       "  0.28703704476356506,\n",
       "  0.3037036955356598,\n",
       "  0.33703702688217163,\n",
       "  0.33796295523643494,\n",
       "  0.3462963104248047,\n",
       "  0.375,\n",
       "  0.39351850748062134,\n",
       "  0.4009259343147278,\n",
       "  0.40648147463798523,\n",
       "  0.43888887763023376,\n",
       "  0.442592591047287,\n",
       "  0.45370370149612427,\n",
       "  0.4592592716217041,\n",
       "  0.46666666865348816,\n",
       "  0.47870370745658875,\n",
       "  0.4870370328426361,\n",
       "  0.5037037134170532,\n",
       "  0.5249999761581421,\n",
       "  0.5370370149612427,\n",
       "  0.5592592358589172,\n",
       "  0.5787037014961243,\n",
       "  0.5861111283302307,\n",
       "  0.6037036776542664,\n",
       "  0.6231481432914734,\n",
       "  0.6287037134170532,\n",
       "  0.6379629373550415,\n",
       "  0.6564815044403076,\n",
       "  0.664814829826355,\n",
       "  0.6657407283782959,\n",
       "  0.6805555820465088,\n",
       "  0.6851851940155029,\n",
       "  0.6925926208496094,\n",
       "  0.6898148059844971,\n",
       "  0.6981481313705444,\n",
       "  0.7074074149131775,\n",
       "  0.7157407402992249,\n",
       "  0.7259259223937988,\n",
       "  0.7314814925193787,\n",
       "  0.7379629611968994,\n",
       "  0.7379629611968994,\n",
       "  0.7435185313224792,\n",
       "  0.7481481432914734,\n",
       "  0.7537037134170532,\n",
       "  0.7611111402511597,\n",
       "  0.7629629373550415,\n",
       "  0.769444465637207,\n",
       "  0.7722222208976746,\n",
       "  0.7722222208976746,\n",
       "  0.7777777910232544,\n",
       "  0.7787036895751953,\n",
       "  0.7824074029922485,\n",
       "  0.7851851582527161,\n",
       "  0.7870370149612427,\n",
       "  0.7870370149612427,\n",
       "  0.789814829826355,\n",
       "  0.7925925850868225,\n",
       "  0.7981481552124023,\n",
       "  0.800000011920929,\n",
       "  0.8055555820465088,\n",
       "  0.8064814805984497,\n",
       "  0.8064814805984497,\n",
       "  0.8092592358589172,\n",
       "  0.8120370507240295,\n",
       "  0.8157407641410828,\n",
       "  0.8185185194015503,\n",
       "  0.8212962746620178,\n",
       "  0.8222222328186035,\n",
       "  0.8240740895271301,\n",
       "  0.8314814567565918,\n",
       "  0.8333333134651184,\n",
       "  0.8370370268821716,\n",
       "  0.8398148417472839,\n",
       "  0.8425925970077515,\n",
       "  0.8462963104248047,\n",
       "  0.8500000238418579,\n",
       "  0.8509259223937988,\n",
       "  0.854629635810852,\n",
       "  0.854629635810852,\n",
       "  0.8564814925193787,\n",
       "  0.8583333492279053,\n",
       "  0.8611111044883728,\n",
       "  0.8629629611968994,\n",
       "  0.8666666746139526,\n",
       "  0.8675925731658936,\n",
       "  0.8703703880310059,\n",
       "  0.8731481432914734,\n",
       "  0.875,\n",
       "  0.8759258985519409,\n",
       "  0.8777777552604675,\n",
       "  0.8787037134170532,\n",
       "  0.8814814686775208,\n",
       "  0.8814814686775208,\n",
       "  0.8824074268341064,\n",
       "  0.8833333253860474,\n",
       "  0.8861111402511597],\n",
       " 'val_loss': [1.7957069873809814,\n",
       "  1.788351058959961,\n",
       "  1.7835357189178467,\n",
       "  1.779539942741394,\n",
       "  1.7746456861495972,\n",
       "  1.7685638666152954,\n",
       "  1.7629536390304565,\n",
       "  1.7573506832122803,\n",
       "  1.7503535747528076,\n",
       "  1.7415523529052734,\n",
       "  1.7314270734786987,\n",
       "  1.7191221714019775,\n",
       "  1.7034375667572021,\n",
       "  1.6839370727539062,\n",
       "  1.6608166694641113,\n",
       "  1.6355586051940918,\n",
       "  1.6067063808441162,\n",
       "  1.5749043226242065,\n",
       "  1.5390429496765137,\n",
       "  1.504557490348816,\n",
       "  1.4682894945144653,\n",
       "  1.431882619857788,\n",
       "  1.39654541015625,\n",
       "  1.362303614616394,\n",
       "  1.3283323049545288,\n",
       "  1.2969555854797363,\n",
       "  1.2663975954055786,\n",
       "  1.2372362613677979,\n",
       "  1.2101588249206543,\n",
       "  1.1846232414245605,\n",
       "  1.1593530178070068,\n",
       "  1.1337093114852905,\n",
       "  1.1094940900802612,\n",
       "  1.086335301399231,\n",
       "  1.0633537769317627,\n",
       "  1.0434811115264893,\n",
       "  1.0209243297576904,\n",
       "  1.0030336380004883,\n",
       "  0.982835590839386,\n",
       "  0.9651841521263123,\n",
       "  0.9471572637557983,\n",
       "  0.9306100010871887,\n",
       "  0.914542019367218,\n",
       "  0.8999351859092712,\n",
       "  0.8850054144859314,\n",
       "  0.8715568780899048,\n",
       "  0.8571937680244446,\n",
       "  0.8446639180183411,\n",
       "  0.8316097259521484,\n",
       "  0.8199261426925659,\n",
       "  0.8077244162559509,\n",
       "  0.7959973812103271,\n",
       "  0.7842780947685242,\n",
       "  0.7718418836593628,\n",
       "  0.759685754776001,\n",
       "  0.7477957606315613,\n",
       "  0.7359403371810913,\n",
       "  0.725323498249054,\n",
       "  0.7135035991668701,\n",
       "  0.7029178738594055,\n",
       "  0.6934035420417786,\n",
       "  0.6832539439201355,\n",
       "  0.6734153628349304,\n",
       "  0.6648207902908325,\n",
       "  0.6550426483154297,\n",
       "  0.6471216678619385,\n",
       "  0.6390188932418823,\n",
       "  0.6310659050941467,\n",
       "  0.623642086982727,\n",
       "  0.6163069605827332,\n",
       "  0.6094225645065308,\n",
       "  0.6031126379966736,\n",
       "  0.5964533686637878,\n",
       "  0.5902616381645203,\n",
       "  0.5840020775794983,\n",
       "  0.5782665014266968,\n",
       "  0.5732277631759644,\n",
       "  0.5678573846817017,\n",
       "  0.562901496887207,\n",
       "  0.5581036806106567,\n",
       "  0.5531488060951233,\n",
       "  0.5483492016792297,\n",
       "  0.5439101457595825,\n",
       "  0.5396897196769714,\n",
       "  0.5355808734893799,\n",
       "  0.5314958691596985,\n",
       "  0.5277312994003296,\n",
       "  0.5239051580429077,\n",
       "  0.5205827355384827,\n",
       "  0.5170335173606873,\n",
       "  0.514018714427948,\n",
       "  0.510863184928894,\n",
       "  0.5075730085372925,\n",
       "  0.5045796632766724,\n",
       "  0.5014881491661072,\n",
       "  0.4984126389026642,\n",
       "  0.49557217955589294,\n",
       "  0.4924609959125519,\n",
       "  0.49003225564956665,\n",
       "  0.48719868063926697],\n",
       " 'val_accuracy': [0.15000000596046448,\n",
       "  0.19166666269302368,\n",
       "  0.23333333432674408,\n",
       "  0.25,\n",
       "  0.2750000059604645,\n",
       "  0.36666667461395264,\n",
       "  0.375,\n",
       "  0.36666667461395264,\n",
       "  0.375,\n",
       "  0.3916666805744171,\n",
       "  0.4000000059604645,\n",
       "  0.40833333134651184,\n",
       "  0.44999998807907104,\n",
       "  0.46666666865348816,\n",
       "  0.49166667461395264,\n",
       "  0.5,\n",
       "  0.5166666507720947,\n",
       "  0.5333333611488342,\n",
       "  0.5166666507720947,\n",
       "  0.5083333253860474,\n",
       "  0.5083333253860474,\n",
       "  0.5416666865348816,\n",
       "  0.5416666865348816,\n",
       "  0.5416666865348816,\n",
       "  0.5249999761581421,\n",
       "  0.550000011920929,\n",
       "  0.550000011920929,\n",
       "  0.5833333134651184,\n",
       "  0.5916666388511658,\n",
       "  0.625,\n",
       "  0.6083333492279053,\n",
       "  0.6166666746139526,\n",
       "  0.6333333253860474,\n",
       "  0.6499999761581421,\n",
       "  0.6333333253860474,\n",
       "  0.675000011920929,\n",
       "  0.6916666626930237,\n",
       "  0.6916666626930237,\n",
       "  0.6916666626930237,\n",
       "  0.7166666388511658,\n",
       "  0.699999988079071,\n",
       "  0.699999988079071,\n",
       "  0.7166666388511658,\n",
       "  0.7333333492279053,\n",
       "  0.7166666388511658,\n",
       "  0.7250000238418579,\n",
       "  0.7166666388511658,\n",
       "  0.7166666388511658,\n",
       "  0.7250000238418579,\n",
       "  0.7166666388511658,\n",
       "  0.7333333492279053,\n",
       "  0.7333333492279053,\n",
       "  0.7250000238418579,\n",
       "  0.7250000238418579,\n",
       "  0.7333333492279053,\n",
       "  0.7416666746139526,\n",
       "  0.7333333492279053,\n",
       "  0.75,\n",
       "  0.7416666746139526,\n",
       "  0.7416666746139526,\n",
       "  0.7416666746139526,\n",
       "  0.7416666746139526,\n",
       "  0.75,\n",
       "  0.75,\n",
       "  0.7583333253860474,\n",
       "  0.7583333253860474,\n",
       "  0.7666666507720947,\n",
       "  0.7666666507720947,\n",
       "  0.7666666507720947,\n",
       "  0.7666666507720947,\n",
       "  0.7666666507720947,\n",
       "  0.7666666507720947,\n",
       "  0.7749999761581421,\n",
       "  0.7749999761581421,\n",
       "  0.7749999761581421,\n",
       "  0.7666666507720947,\n",
       "  0.7749999761581421,\n",
       "  0.7749999761581421,\n",
       "  0.7749999761581421,\n",
       "  0.7749999761581421,\n",
       "  0.7749999761581421,\n",
       "  0.7833333611488342,\n",
       "  0.7833333611488342,\n",
       "  0.7916666865348816,\n",
       "  0.7916666865348816,\n",
       "  0.800000011920929,\n",
       "  0.8083333373069763,\n",
       "  0.8083333373069763,\n",
       "  0.8083333373069763,\n",
       "  0.8083333373069763,\n",
       "  0.8083333373069763,\n",
       "  0.8083333373069763,\n",
       "  0.8083333373069763,\n",
       "  0.8083333373069763,\n",
       "  0.8166666626930237,\n",
       "  0.824999988079071,\n",
       "  0.824999988079071,\n",
       "  0.824999988079071,\n",
       "  0.824999988079071,\n",
       "  0.824999988079071]}"
      ]
     },
     "execution_count": 36,
     "metadata": {},
     "output_type": "execute_result"
    }
   ],
   "source": [
    "history.history"
   ]
  },
  {
   "cell_type": "markdown",
   "metadata": {},
   "source": [
    "Now visualize the loss over time using `history.history`: "
   ]
  },
  {
   "cell_type": "code",
   "execution_count": 37,
   "metadata": {},
   "outputs": [
    {
     "data": {
      "text/plain": [
       "[Text(0, 0.5, 'Accuracy'), Text(0.5, 0, 'Epoch')]"
      ]
     },
     "execution_count": 37,
     "metadata": {},
     "output_type": "execute_result"
    },
    {
     "data": {
      "image/png": "[encoded data removed]",
      "text/plain": [
       "<Figure size 864x576 with 1 Axes>"
      ]
     },
     "metadata": {
      "needs_background": "light"
     },
     "output_type": "display_data"
    },
    {
     "data": {
      "image/png": "[encoded data removed]",
      "text/plain": [
       "<Figure size 864x576 with 1 Axes>"
      ]
     },
     "metadata": {
      "needs_background": "light"
     },
     "output_type": "display_data"
    }
   ],
   "source": [
    "# The history.history[\"loss\"] entry is a dictionary with as many values as epochs that the\n",
    "# model was trained on. \n",
    "df_loss_acc = pd.DataFrame(history.history)\n",
    "df_loss= df_loss_acc[['loss','val_loss']]\n",
    "df_loss.rename(columns={'loss':'train','val_loss':'validation'},inplace=True)\n",
    "df_acc= df_loss_acc[['accuracy','val_accuracy']]\n",
    "df_acc.rename(columns={'accuracy':'train','val_accuracy':'validation'},inplace=True)\n",
    "df_loss.plot(title='Model loss',figsize=(12,8)).set(xlabel='Epoch',ylabel='Loss')\n",
    "df_acc.plot(title='Model Accuracy',figsize=(12,8)).set(xlabel='Epoch',ylabel='Accuracy')"
   ]
  },
  {
   "cell_type": "markdown",
   "metadata": {},
   "source": [
    "**Congratulations**! You've finished the assignment and built two models: One that recognizes  smiles, and another that recognizes SIGN language with almost 80% accuracy on the test set. In addition to that, you now also understand the applications of two Keras APIs: Sequential and Functional. Nicely done! \n",
    "\n",
    "By now, you know a bit about how the Functional API works and may have glimpsed the possibilities. In your next assignment, you'll really get a feel for its power when you get the opportunity to build a very deep ConvNet, using ResNets! "
   ]
  },
  {
   "cell_type": "markdown",
   "metadata": {},
   "source": [
    "<a name='6'></a>\n",
    "## 6 - Bibliography\n",
    "\n",
    "You're always encouraged to read the official documentation. To that end, you can find the docs for the Sequential and Functional APIs here: \n",
    "\n",
    "https://www.tensorflow.org/guide/keras/sequential_model\n",
    "\n",
    "https://www.tensorflow.org/guide/keras/functional"
   ]
  }
 ],
 "metadata": {
  "coursera": {
   "course_slug": "convolutional-neural-networks",
   "graded_item_id": "bwbJV",
   "launcher_item_id": "0TkXB"
  },
  "kernelspec": {
   "display_name": "Python 3",
   "language": "python",
   "name": "python3"
  },
  "language_info": {
   "codemirror_mode": {
    "name": "ipython",
    "version": 3
   },
   "file_extension": ".py",
   "mimetype": "text/x-python",
   "name": "python",
   "nbconvert_exporter": "python",
   "pygments_lexer": "ipython3",
   "version": "3.7.6"
  }
 },
 "nbformat": 4,
 "nbformat_minor": 2
}
